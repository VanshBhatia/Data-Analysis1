{
 "cells": [
  {
   "cell_type": "code",
   "execution_count": 39,
   "metadata": {
    "collapsed": false
   },
   "outputs": [],
   "source": [
    "%matplotlib inline\n",
    "import pandas as pd\n",
    "import numpy as np\n",
    "from matplotlib import pyplot as plt"
   ]
  },
  {
   "cell_type": "code",
   "execution_count": 40,
   "metadata": {
    "collapsed": false
   },
   "outputs": [],
   "source": [
    "url='http://www.aero.iitb.ac.in/~prabhu/tmp/sslc1.csv'\n",
    "df=pd.read_csv(url,sep=';')\n",
    "dfp=pd.read_csv(url,sep=';',na_values=['AA'])"
   ]
  },
  {
   "cell_type": "code",
   "execution_count": 41,
   "metadata": {
    "collapsed": false
   },
   "outputs": [
    {
     "data": {
      "text/html": [
       "<div>\n",
       "<table border=\"1\" class=\"dataframe\">\n",
       "  <thead>\n",
       "    <tr style=\"text-align: right;\">\n",
       "      <th></th>\n",
       "      <th>region</th>\n",
       "      <th>roll_number</th>\n",
       "      <th>name</th>\n",
       "      <th>sl</th>\n",
       "      <th>fl</th>\n",
       "      <th>math</th>\n",
       "      <th>sci</th>\n",
       "      <th>ss</th>\n",
       "      <th>total</th>\n",
       "      <th>pass</th>\n",
       "      <th>withheld</th>\n",
       "      <th>Unnamed: 11</th>\n",
       "    </tr>\n",
       "  </thead>\n",
       "  <tbody>\n",
       "    <tr>\n",
       "      <th>0</th>\n",
       "      <td>A</td>\n",
       "      <td>10001</td>\n",
       "      <td>ABINESH T N</td>\n",
       "      <td>053</td>\n",
       "      <td>036</td>\n",
       "      <td>28</td>\n",
       "      <td>16</td>\n",
       "      <td>44</td>\n",
       "      <td>177</td>\n",
       "      <td>NaN</td>\n",
       "      <td>NaN</td>\n",
       "      <td>NaN</td>\n",
       "    </tr>\n",
       "    <tr>\n",
       "      <th>1</th>\n",
       "      <td>A</td>\n",
       "      <td>10002</td>\n",
       "      <td>ANAND R</td>\n",
       "      <td>058</td>\n",
       "      <td>037</td>\n",
       "      <td>42</td>\n",
       "      <td>35</td>\n",
       "      <td>40</td>\n",
       "      <td>212</td>\n",
       "      <td>P</td>\n",
       "      <td>NaN</td>\n",
       "      <td>NaN</td>\n",
       "    </tr>\n",
       "    <tr>\n",
       "      <th>2</th>\n",
       "      <td>A</td>\n",
       "      <td>10003</td>\n",
       "      <td>ANISH M</td>\n",
       "      <td>072</td>\n",
       "      <td>056</td>\n",
       "      <td>71</td>\n",
       "      <td>55</td>\n",
       "      <td>70</td>\n",
       "      <td>324</td>\n",
       "      <td>P</td>\n",
       "      <td>NaN</td>\n",
       "      <td>NaN</td>\n",
       "    </tr>\n",
       "    <tr>\n",
       "      <th>3</th>\n",
       "      <td>A</td>\n",
       "      <td>10004</td>\n",
       "      <td>ANITHRAJ S</td>\n",
       "      <td>087</td>\n",
       "      <td>064</td>\n",
       "      <td>83</td>\n",
       "      <td>58</td>\n",
       "      <td>65</td>\n",
       "      <td>357</td>\n",
       "      <td>P</td>\n",
       "      <td>NaN</td>\n",
       "      <td>NaN</td>\n",
       "    </tr>\n",
       "    <tr>\n",
       "      <th>4</th>\n",
       "      <td>A</td>\n",
       "      <td>10005</td>\n",
       "      <td>ARIDHAS N</td>\n",
       "      <td>059</td>\n",
       "      <td>045</td>\n",
       "      <td>50</td>\n",
       "      <td>35</td>\n",
       "      <td>48</td>\n",
       "      <td>237</td>\n",
       "      <td>P</td>\n",
       "      <td>NaN</td>\n",
       "      <td>NaN</td>\n",
       "    </tr>\n",
       "  </tbody>\n",
       "</table>\n",
       "</div>"
      ],
      "text/plain": [
       "  region  roll_number         name   sl   fl math sci  ss total pass withheld  \\\n",
       "0      A        10001  ABINESH T N  053  036   28  16  44   177  NaN      NaN   \n",
       "1      A        10002      ANAND R  058  037   42  35  40   212    P      NaN   \n",
       "2      A        10003      ANISH M  072  056   71  55  70   324    P      NaN   \n",
       "3      A        10004   ANITHRAJ S  087  064   83  58  65   357    P      NaN   \n",
       "4      A        10005    ARIDHAS N  059  045   50  35  48   237    P      NaN   \n",
       "\n",
       "   Unnamed: 11  \n",
       "0          NaN  \n",
       "1          NaN  \n",
       "2          NaN  \n",
       "3          NaN  \n",
       "4          NaN  "
      ]
     },
     "execution_count": 41,
     "metadata": {},
     "output_type": "execute_result"
    }
   ],
   "source": [
    "df.head()"
   ]
  },
  {
   "cell_type": "code",
   "execution_count": 42,
   "metadata": {
    "collapsed": false
   },
   "outputs": [
    {
     "data": {
      "text/plain": [
       "Index([u'region', u'roll_number', u'name', u'sl', u'fl', u'math', u'sci',\n",
       "       u'ss', u'total', u'pass', u'withheld', u'Unnamed: 11'],\n",
       "      dtype='object')"
      ]
     },
     "execution_count": 42,
     "metadata": {},
     "output_type": "execute_result"
    }
   ],
   "source": [
    "df.columns"
   ]
  },
  {
   "cell_type": "code",
   "execution_count": 43,
   "metadata": {
    "collapsed": true
   },
   "outputs": [],
   "source": [
    "del dfp['Unnamed: 11']"
   ]
  },
  {
   "cell_type": "code",
   "execution_count": 44,
   "metadata": {
    "collapsed": false
   },
   "outputs": [],
   "source": [
    "dfp.columns=['region', 'roll_number', 'name', 'sl', 'fl', 'math', 'sci',\n",
    "       'ss', 'total', 'Pass', 'withheld',]"
   ]
  },
  {
   "cell_type": "code",
   "execution_count": 45,
   "metadata": {
    "collapsed": false,
    "scrolled": true
   },
   "outputs": [
    {
     "data": {
      "text/html": [
       "<div>\n",
       "<table border=\"1\" class=\"dataframe\">\n",
       "  <thead>\n",
       "    <tr style=\"text-align: right;\">\n",
       "      <th></th>\n",
       "      <th>region</th>\n",
       "      <th>roll_number</th>\n",
       "      <th>name</th>\n",
       "      <th>sl</th>\n",
       "      <th>fl</th>\n",
       "      <th>math</th>\n",
       "      <th>sci</th>\n",
       "      <th>ss</th>\n",
       "      <th>total</th>\n",
       "      <th>pass</th>\n",
       "      <th>withheld</th>\n",
       "      <th>Unnamed: 11</th>\n",
       "    </tr>\n",
       "  </thead>\n",
       "  <tbody>\n",
       "    <tr>\n",
       "      <th>0</th>\n",
       "      <td>A</td>\n",
       "      <td>10001</td>\n",
       "      <td>ABINESH T N</td>\n",
       "      <td>053</td>\n",
       "      <td>036</td>\n",
       "      <td>28</td>\n",
       "      <td>16</td>\n",
       "      <td>44</td>\n",
       "      <td>177</td>\n",
       "      <td>NaN</td>\n",
       "      <td>NaN</td>\n",
       "      <td>NaN</td>\n",
       "    </tr>\n",
       "    <tr>\n",
       "      <th>1</th>\n",
       "      <td>A</td>\n",
       "      <td>10002</td>\n",
       "      <td>ANAND R</td>\n",
       "      <td>058</td>\n",
       "      <td>037</td>\n",
       "      <td>42</td>\n",
       "      <td>35</td>\n",
       "      <td>40</td>\n",
       "      <td>212</td>\n",
       "      <td>P</td>\n",
       "      <td>NaN</td>\n",
       "      <td>NaN</td>\n",
       "    </tr>\n",
       "    <tr>\n",
       "      <th>2</th>\n",
       "      <td>A</td>\n",
       "      <td>10003</td>\n",
       "      <td>ANISH M</td>\n",
       "      <td>072</td>\n",
       "      <td>056</td>\n",
       "      <td>71</td>\n",
       "      <td>55</td>\n",
       "      <td>70</td>\n",
       "      <td>324</td>\n",
       "      <td>P</td>\n",
       "      <td>NaN</td>\n",
       "      <td>NaN</td>\n",
       "    </tr>\n",
       "    <tr>\n",
       "      <th>3</th>\n",
       "      <td>A</td>\n",
       "      <td>10004</td>\n",
       "      <td>ANITHRAJ S</td>\n",
       "      <td>087</td>\n",
       "      <td>064</td>\n",
       "      <td>83</td>\n",
       "      <td>58</td>\n",
       "      <td>65</td>\n",
       "      <td>357</td>\n",
       "      <td>P</td>\n",
       "      <td>NaN</td>\n",
       "      <td>NaN</td>\n",
       "    </tr>\n",
       "    <tr>\n",
       "      <th>4</th>\n",
       "      <td>A</td>\n",
       "      <td>10005</td>\n",
       "      <td>ARIDHAS N</td>\n",
       "      <td>059</td>\n",
       "      <td>045</td>\n",
       "      <td>50</td>\n",
       "      <td>35</td>\n",
       "      <td>48</td>\n",
       "      <td>237</td>\n",
       "      <td>P</td>\n",
       "      <td>NaN</td>\n",
       "      <td>NaN</td>\n",
       "    </tr>\n",
       "  </tbody>\n",
       "</table>\n",
       "</div>"
      ],
      "text/plain": [
       "  region  roll_number         name   sl   fl math sci  ss total pass withheld  \\\n",
       "0      A        10001  ABINESH T N  053  036   28  16  44   177  NaN      NaN   \n",
       "1      A        10002      ANAND R  058  037   42  35  40   212    P      NaN   \n",
       "2      A        10003      ANISH M  072  056   71  55  70   324    P      NaN   \n",
       "3      A        10004   ANITHRAJ S  087  064   83  58  65   357    P      NaN   \n",
       "4      A        10005    ARIDHAS N  059  045   50  35  48   237    P      NaN   \n",
       "\n",
       "   Unnamed: 11  \n",
       "0          NaN  \n",
       "1          NaN  \n",
       "2          NaN  \n",
       "3          NaN  \n",
       "4          NaN  "
      ]
     },
     "execution_count": 45,
     "metadata": {},
     "output_type": "execute_result"
    }
   ],
   "source": [
    "df.head()"
   ]
  },
  {
   "cell_type": "code",
   "execution_count": 46,
   "metadata": {
    "collapsed": false
   },
   "outputs": [],
   "source": [
    "dfp_A=dfp[dfp.region=='A']\n",
    "dfp_B=dfp[dfp.region=='B']\n",
    "dfp_C=dfp[dfp.region=='C']\n",
    "dfp_D=dfp[dfp.region=='D']\n",
    "dfp_E=dfp[dfp.region=='E']\n",
    "dfp_F=dfp[dfp.region=='F']"
   ]
  },
  {
   "cell_type": "code",
   "execution_count": 47,
   "metadata": {
    "collapsed": false
   },
   "outputs": [],
   "source": [
    "x=[dfp_A.region.count(),dfp_B.region.count(),dfp_C.region.count(),dfp_D.region.count(),dfp_E.region.count(),dfp_F.region.count()]"
   ]
  },
  {
   "cell_type": "code",
   "execution_count": 48,
   "metadata": {
    "collapsed": false
   },
   "outputs": [
    {
     "data": {
      "text/plain": [
       "[36401, 41341, 31261, 25470, 24780, 26414]"
      ]
     },
     "execution_count": 48,
     "metadata": {},
     "output_type": "execute_result"
    }
   ],
   "source": [
    "Number_of_students_in_each_region=x\n",
    "Number_of_students_in_each_region"
   ]
  },
  {
   "cell_type": "code",
   "execution_count": 49,
   "metadata": {
    "collapsed": false
   },
   "outputs": [
    {
     "data": {
      "text/plain": [
       "<matplotlib.text.Text at 0x19770a90>"
      ]
     },
     "execution_count": 49,
     "metadata": {},
     "output_type": "execute_result"
    },
    {
     "data": {
      "image/png": "[encoded data removed]",
      "text/plain": [
       "<matplotlib.figure.Figure at 0x1973ae80>"
      ]
     },
     "metadata": {},
     "output_type": "display_data"
    }
   ],
   "source": [
    "label='A','B','c','D','E','F'\n",
    "plt.pie(x,labels=label)\n",
    "plt.title('No. of students in each region')"
   ]
  },
  {
   "cell_type": "code",
   "execution_count": 50,
   "metadata": {
    "collapsed": false
   },
   "outputs": [],
   "source": [
    "y=[dfp_A[dfp_A.Pass=='P'].Pass.count(),dfp_B[dfp_B.Pass=='P'].Pass.count(),dfp_C[dfp_C.Pass=='P'].Pass.count(),dfp_D[dfp_D.Pass=='P'].Pass.count(),dfp_E[dfp_E.Pass=='P'].Pass.count(),dfp_F[dfp_F.Pass=='P'].Pass.count()]"
   ]
  },
  {
   "cell_type": "code",
   "execution_count": 51,
   "metadata": {
    "collapsed": false
   },
   "outputs": [
    {
     "name": "stdout",
     "output_type": "stream",
     "text": [
      "[31013, 36202, 26681, 22080, 20880, 22216]\n",
      "[85 87 85 86 84 84]\n"
     ]
    }
   ],
   "source": [
    "q2=np.array(y)*100/np.array(x)\n",
    "print y\n",
    "print q2"
   ]
  },
  {
   "cell_type": "code",
   "execution_count": 52,
   "metadata": {
    "collapsed": false
   },
   "outputs": [
    {
     "data": {
      "text/plain": [
       "<matplotlib.text.Text at 0x990c668>"
      ]
     },
     "execution_count": 52,
     "metadata": {},
     "output_type": "execute_result"
    },
    {
     "data": {
      "image/png": "[encoded data removed]",
      "text/plain": [
       "<matplotlib.figure.Figure at 0x1973acc0>"
      ]
     },
     "metadata": {},
     "output_type": "display_data"
    }
   ],
   "source": [
    "plt.pie(q2,labels=label)\n",
    "plt.title('Percentage of students passing per region')"
   ]
  },
  {
   "cell_type": "code",
   "execution_count": 53,
   "metadata": {
    "collapsed": false
   },
   "outputs": [],
   "source": [
    "df1=df[(df.sl!='AA')&(df.fl!='AA')&(df.math!='AA')&(df.sci!='AA')&(df.ss!='AA')]\n",
    "df1_A=df1[df1.region=='A']\n",
    "df1_B=df1[df1.region=='B']\n",
    "df1_C=df1[df1.region=='C']\n",
    "df1_D=df1[df1.region=='D']\n",
    "df1_E=df1[df1.region=='E']\n",
    "df1_F=df1[df1.region=='F']"
   ]
  },
  {
   "cell_type": "code",
   "execution_count": 54,
   "metadata": {
    "collapsed": true
   },
   "outputs": [],
   "source": [
    "z=[df1_A.region.count(),df1_B.region.count(),df1_C.region.count(),df1_D.region.count(),df1_E.region.count(),df1_F.region.count()]"
   ]
  },
  {
   "cell_type": "code",
   "execution_count": 55,
   "metadata": {
    "collapsed": false
   },
   "outputs": [
    {
     "name": "stdout",
     "output_type": "stream",
     "text": [
      "[36371, 41316, 31234, 25449, 24765, 26352]\n"
     ]
    },
    {
     "data": {
      "text/plain": [
       "<matplotlib.text.Text at 0xc106f98>"
      ]
     },
     "execution_count": 55,
     "metadata": {},
     "output_type": "execute_result"
    },
    {
     "data": {
      "image/png": "[encoded data removed]",
      "text/plain": [
       "<matplotlib.figure.Figure at 0x15d28828>"
      ]
     },
     "metadata": {},
     "output_type": "display_data"
    }
   ],
   "source": [
    "q3=np.array(z)*100/np.array(x)\n",
    "print z\n",
    "plt.pie(q3,labels=label)\n",
    "plt.title(' total number of students who attended all the exams')"
   ]
  },
  {
   "cell_type": "code",
   "execution_count": 56,
   "metadata": {
    "collapsed": false
   },
   "outputs": [
    {
     "data": {
      "text/plain": [
       "<matplotlib.text.Text at 0xcd5dc88>"
      ]
     },
     "execution_count": 56,
     "metadata": {},
     "output_type": "execute_result"
    },
    {
     "data": {
      "image/png": "[encoded data removed]",
      "text/plain": [
       "<matplotlib.figure.Figure at 0xc4ee240>"
      ]
     },
     "metadata": {},
     "output_type": "display_data"
    }
   ],
   "source": [
    "dfp.total.plot.hist(50)\n",
    "plt.title('total marks in all region ')"
   ]
  },
  {
   "cell_type": "code",
   "execution_count": 57,
   "metadata": {
    "collapsed": false
   },
   "outputs": [
    {
     "data": {
      "text/plain": [
       "<matplotlib.text.Text at 0x1f1f5630>"
      ]
     },
     "execution_count": 57,
     "metadata": {},
     "output_type": "execute_result"
    },
    {
     "data": {
      "image/png": "[encoded data removed]",
      "text/plain": [
       "<matplotlib.figure.Figure at 0x1ef1b5c0>"
      ]
     },
     "metadata": {},
     "output_type": "display_data"
    }
   ],
   "source": [
    "dfp_A.total.plot.hist(50)\n",
    "plt.title('total marks in region A')"
   ]
  },
  {
   "cell_type": "code",
   "execution_count": 58,
   "metadata": {
    "collapsed": false
   },
   "outputs": [
    {
     "data": {
      "text/plain": [
       "<matplotlib.text.Text at 0xf10a5c0>"
      ]
     },
     "execution_count": 58,
     "metadata": {},
     "output_type": "execute_result"
    },
    {
     "data": {
      "image/png": "[encoded data removed]",
      "text/plain": [
       "<matplotlib.figure.Figure at 0x194e2278>"
      ]
     },
     "metadata": {},
     "output_type": "display_data"
    }
   ],
   "source": [
    "dfp_B.total.plot.hist(50)\n",
    "plt.title('total marks in region B')"
   ]
  },
  {
   "cell_type": "code",
   "execution_count": 59,
   "metadata": {
    "collapsed": false
   },
   "outputs": [
    {
     "data": {
      "text/plain": [
       "<matplotlib.text.Text at 0xf33fd68>"
      ]
     },
     "execution_count": 59,
     "metadata": {},
     "output_type": "execute_result"
    },
    {
     "data": {
      "image/png": "[encoded data removed]",
      "text/plain": [
       "<matplotlib.figure.Figure at 0xf365c18>"
      ]
     },
     "metadata": {},
     "output_type": "display_data"
    }
   ],
   "source": [
    "dfp_C.total.plot.hist(50)\n",
    "plt.title('total marks in region C')"
   ]
  },
  {
   "cell_type": "code",
   "execution_count": 60,
   "metadata": {
    "collapsed": false
   },
   "outputs": [
    {
     "data": {
      "text/plain": [
       "<matplotlib.text.Text at 0xce41518>"
      ]
     },
     "execution_count": 60,
     "metadata": {},
     "output_type": "execute_result"
    },
    {
     "data": {
      "image/png": "[encoded data removed]",
      "text/plain": [
       "<matplotlib.figure.Figure at 0xf315e80>"
      ]
     },
     "metadata": {},
     "output_type": "display_data"
    }
   ],
   "source": [
    "dfp_D.total.plot.hist(50)\n",
    "plt.title('total marks in region D')"
   ]
  },
  {
   "cell_type": "code",
   "execution_count": 61,
   "metadata": {
    "collapsed": false
   },
   "outputs": [
    {
     "data": {
      "text/plain": [
       "<matplotlib.text.Text at 0xce0e7f0>"
      ]
     },
     "execution_count": 61,
     "metadata": {},
     "output_type": "execute_result"
    },
    {
     "data": {
      "image/png": "[encoded data removed]",
      "text/plain": [
       "<matplotlib.figure.Figure at 0xc559f60>"
      ]
     },
     "metadata": {},
     "output_type": "display_data"
    }
   ],
   "source": [
    "dfp_E.total.plot.hist(50)\n",
    "plt.title('total marks in region E')"
   ]
  },
  {
   "cell_type": "code",
   "execution_count": 62,
   "metadata": {
    "collapsed": false
   },
   "outputs": [
    {
     "data": {
      "text/plain": [
       "<matplotlib.text.Text at 0xc4480b8>"
      ]
     },
     "execution_count": 62,
     "metadata": {},
     "output_type": "execute_result"
    },
    {
     "data": {
      "image/png": "[encoded data removed]",
      "text/plain": [
       "<matplotlib.figure.Figure at 0xc434438>"
      ]
     },
     "metadata": {},
     "output_type": "display_data"
    }
   ],
   "source": [
    "dfp_F.total.plot.hist(50)\n",
    "plt.title('total marks in region F')"
   ]
  },
  {
   "cell_type": "code",
   "execution_count": 63,
   "metadata": {
    "collapsed": false
   },
   "outputs": [
    {
     "data": {
      "text/plain": [
       "<matplotlib.text.Text at 0xc6fc400>"
      ]
     },
     "execution_count": 63,
     "metadata": {},
     "output_type": "execute_result"
    },
    {
     "data": {
      "image/png": "[encoded data removed]",
      "text/plain": [
       "<matplotlib.figure.Figure at 0x9c4fe10>"
      ]
     },
     "metadata": {},
     "output_type": "display_data"
    }
   ],
   "source": [
    "dfp.math.plot.box()\n",
    "plt.title('distribution of mathematic marks in all region')"
   ]
  },
  {
   "cell_type": "code",
   "execution_count": 64,
   "metadata": {
    "collapsed": false
   },
   "outputs": [
    {
     "data": {
      "text/plain": [
       "<matplotlib.text.Text at 0x96e0128>"
      ]
     },
     "execution_count": 64,
     "metadata": {},
     "output_type": "execute_result"
    },
    {
     "data": {
      "image/png": "[encoded data removed]",
      "text/plain": [
       "<matplotlib.figure.Figure at 0xc6f6b70>"
      ]
     },
     "metadata": {},
     "output_type": "display_data"
    }
   ],
   "source": [
    "dfp_A.math.plot.box()\n",
    "plt.title('distribution of mathematic marks in region A')\n"
   ]
  },
  {
   "cell_type": "code",
   "execution_count": 65,
   "metadata": {
    "collapsed": false
   },
   "outputs": [
    {
     "data": {
      "text/plain": [
       "<matplotlib.text.Text at 0xf113400>"
      ]
     },
     "execution_count": 65,
     "metadata": {},
     "output_type": "execute_result"
    },
    {
     "data": {
      "image/png": "[encoded data removed]",
      "text/plain": [
       "<matplotlib.figure.Figure at 0x96e0860>"
      ]
     },
     "metadata": {},
     "output_type": "display_data"
    }
   ],
   "source": [
    "dfp_B.math.plot.box()\n",
    "plt.title('distribution of mathematic marks in region B')\n"
   ]
  },
  {
   "cell_type": "code",
   "execution_count": 66,
   "metadata": {
    "collapsed": false
   },
   "outputs": [
    {
     "data": {
      "text/plain": [
       "<matplotlib.text.Text at 0xcfea320>"
      ]
     },
     "execution_count": 66,
     "metadata": {},
     "output_type": "execute_result"
    },
    {
     "data": {
      "image/png": "[encoded data removed]",
      "text/plain": [
       "<matplotlib.figure.Figure at 0xc417ef0>"
      ]
     },
     "metadata": {},
     "output_type": "display_data"
    }
   ],
   "source": [
    "dfp_C.math.plot.box()\n",
    "plt.title('distribution of mathematic marks in region C')"
   ]
  },
  {
   "cell_type": "code",
   "execution_count": 67,
   "metadata": {
    "collapsed": false
   },
   "outputs": [
    {
     "data": {
      "text/plain": [
       "<matplotlib.text.Text at 0xcfbb4a8>"
      ]
     },
     "execution_count": 67,
     "metadata": {},
     "output_type": "execute_result"
    },
    {
     "data": {
      "image/png": "[encoded data removed]",
      "text/plain": [
       "<matplotlib.figure.Figure at 0xcfee978>"
      ]
     },
     "metadata": {},
     "output_type": "display_data"
    }
   ],
   "source": [
    "dfp_D.math.plot.box()\n",
    "plt.title('distribution of mathematic marks in region D')"
   ]
  },
  {
   "cell_type": "code",
   "execution_count": 68,
   "metadata": {
    "collapsed": false
   },
   "outputs": [
    {
     "data": {
      "text/plain": [
       "<matplotlib.text.Text at 0xc0b38d0>"
      ]
     },
     "execution_count": 68,
     "metadata": {},
     "output_type": "execute_result"
    },
    {
     "data": {
      "image/png": "[encoded data removed]",
      "text/plain": [
       "<matplotlib.figure.Figure at 0xcfb6c88>"
      ]
     },
     "metadata": {},
     "output_type": "display_data"
    }
   ],
   "source": [
    "dfp_E.math.plot.box()\n",
    "plt.title('distribution of mathematic marks in region E')"
   ]
  },
  {
   "cell_type": "code",
   "execution_count": 69,
   "metadata": {
    "collapsed": false
   },
   "outputs": [
    {
     "data": {
      "text/plain": [
       "<matplotlib.text.Text at 0x205d0b38>"
      ]
     },
     "execution_count": 69,
     "metadata": {},
     "output_type": "execute_result"
    },
    {
     "data": {
      "image/png": "[encoded data removed]",
      "text/plain": [
       "<matplotlib.figure.Figure at 0xc0b7ac8>"
      ]
     },
     "metadata": {},
     "output_type": "display_data"
    }
   ],
   "source": [
    "dfp_F.math.plot.box()\n",
    "plt.title('distribution of mathematic marks in region F')"
   ]
  },
  {
   "cell_type": "code",
   "execution_count": 70,
   "metadata": {
    "collapsed": false
   },
   "outputs": [],
   "source": [
    "df4=dfp[dfp.sci>90]\n",
    "df4_A=df4[df4.region=='A']\n",
    "df4_B=df4[df4.region=='B']\n",
    "df4_C=df4[df4.region=='C']\n",
    "df4_D=df4[df4.region=='D']\n",
    "df4_E=df4[df4.region=='E']\n",
    "df4_F=df4[df4.region=='F']"
   ]
  },
  {
   "cell_type": "code",
   "execution_count": 71,
   "metadata": {
    "collapsed": false
   },
   "outputs": [],
   "source": [
    "q4=[df4_A.region.count(),df4_B.region.count(),df4_C.region.count(),df4_D.region.count(),df4_E.region.count(),df4_F.region.count()]"
   ]
  },
  {
   "cell_type": "code",
   "execution_count": 72,
   "metadata": {
    "collapsed": false
   },
   "outputs": [
    {
     "name": "stdout",
     "output_type": "stream",
     "text": [
      "[729, 1120, 764, 603, 414, 500]\n"
     ]
    }
   ],
   "source": [
    "print q4"
   ]
  },
  {
   "cell_type": "code",
   "execution_count": 73,
   "metadata": {
    "collapsed": false
   },
   "outputs": [
    {
     "data": {
      "text/plain": [
       "<matplotlib.text.Text at 0xc569ba8>"
      ]
     },
     "execution_count": 73,
     "metadata": {},
     "output_type": "execute_result"
    },
    {
     "data": {
      "image/png": "[encoded data removed]",
      "text/plain": [
       "<matplotlib.figure.Figure at 0x2060fac8>"
      ]
     },
     "metadata": {},
     "output_type": "display_data"
    }
   ],
   "source": [
    "q04=np.array(q4)*100/np.array(x)\n",
    "plt.pie(q04,labels=label)\n",
    "plt.title('proportion of students who scored more than 90% in each region in Science')"
   ]
  },
  {
   "cell_type": "code",
   "execution_count": 74,
   "metadata": {
    "collapsed": false,
    "scrolled": true
   },
   "outputs": [
    {
     "data": {
      "text/html": [
       "<div>\n",
       "<table border=\"1\" class=\"dataframe\">\n",
       "  <thead>\n",
       "    <tr style=\"text-align: right;\">\n",
       "      <th></th>\n",
       "      <th>roll_number</th>\n",
       "      <th>sl</th>\n",
       "      <th>fl</th>\n",
       "      <th>math</th>\n",
       "      <th>sci</th>\n",
       "      <th>ss</th>\n",
       "      <th>total</th>\n",
       "    </tr>\n",
       "  </thead>\n",
       "  <tbody>\n",
       "    <tr>\n",
       "      <th>count</th>\n",
       "      <td>185667.000000</td>\n",
       "      <td>185642.000000</td>\n",
       "      <td>185532.000000</td>\n",
       "      <td>185624.000000</td>\n",
       "      <td>185615.000000</td>\n",
       "      <td>185615.000000</td>\n",
       "      <td>185666.000000</td>\n",
       "    </tr>\n",
       "    <tr>\n",
       "      <th>mean</th>\n",
       "      <td>105014.949043</td>\n",
       "      <td>73.564430</td>\n",
       "      <td>53.837435</td>\n",
       "      <td>62.847983</td>\n",
       "      <td>50.712265</td>\n",
       "      <td>63.188266</td>\n",
       "      <td>304.056510</td>\n",
       "    </tr>\n",
       "    <tr>\n",
       "      <th>std</th>\n",
       "      <td>54921.152696</td>\n",
       "      <td>14.124606</td>\n",
       "      <td>15.337772</td>\n",
       "      <td>23.483041</td>\n",
       "      <td>20.049138</td>\n",
       "      <td>16.915145</td>\n",
       "      <td>80.572719</td>\n",
       "    </tr>\n",
       "    <tr>\n",
       "      <th>min</th>\n",
       "      <td>10001.000000</td>\n",
       "      <td>4.000000</td>\n",
       "      <td>4.000000</td>\n",
       "      <td>1.000000</td>\n",
       "      <td>2.000000</td>\n",
       "      <td>3.000000</td>\n",
       "      <td>0.000000</td>\n",
       "    </tr>\n",
       "    <tr>\n",
       "      <th>25%</th>\n",
       "      <td>57314.500000</td>\n",
       "      <td>65.000000</td>\n",
       "      <td>43.000000</td>\n",
       "      <td>43.000000</td>\n",
       "      <td>35.000000</td>\n",
       "      <td>51.000000</td>\n",
       "      <td>246.000000</td>\n",
       "    </tr>\n",
       "    <tr>\n",
       "      <th>50%</th>\n",
       "      <td>105291.000000</td>\n",
       "      <td>76.000000</td>\n",
       "      <td>53.000000</td>\n",
       "      <td>62.000000</td>\n",
       "      <td>49.000000</td>\n",
       "      <td>64.000000</td>\n",
       "      <td>302.000000</td>\n",
       "    </tr>\n",
       "    <tr>\n",
       "      <th>75%</th>\n",
       "      <td>152581.500000</td>\n",
       "      <td>85.000000</td>\n",
       "      <td>65.000000</td>\n",
       "      <td>84.000000</td>\n",
       "      <td>65.000000</td>\n",
       "      <td>76.000000</td>\n",
       "      <td>366.000000</td>\n",
       "    </tr>\n",
       "    <tr>\n",
       "      <th>max</th>\n",
       "      <td>199999.000000</td>\n",
       "      <td>98.000000</td>\n",
       "      <td>97.000000</td>\n",
       "      <td>100.000000</td>\n",
       "      <td>100.000000</td>\n",
       "      <td>100.000000</td>\n",
       "      <td>488.000000</td>\n",
       "    </tr>\n",
       "  </tbody>\n",
       "</table>\n",
       "</div>"
      ],
      "text/plain": [
       "         roll_number             sl             fl           math  \\\n",
       "count  185667.000000  185642.000000  185532.000000  185624.000000   \n",
       "mean   105014.949043      73.564430      53.837435      62.847983   \n",
       "std     54921.152696      14.124606      15.337772      23.483041   \n",
       "min     10001.000000       4.000000       4.000000       1.000000   \n",
       "25%     57314.500000      65.000000      43.000000      43.000000   \n",
       "50%    105291.000000      76.000000      53.000000      62.000000   \n",
       "75%    152581.500000      85.000000      65.000000      84.000000   \n",
       "max    199999.000000      98.000000      97.000000     100.000000   \n",
       "\n",
       "                 sci             ss          total  \n",
       "count  185615.000000  185615.000000  185666.000000  \n",
       "mean       50.712265      63.188266     304.056510  \n",
       "std        20.049138      16.915145      80.572719  \n",
       "min         2.000000       3.000000       0.000000  \n",
       "25%        35.000000      51.000000     246.000000  \n",
       "50%        49.000000      64.000000     302.000000  \n",
       "75%        65.000000      76.000000     366.000000  \n",
       "max       100.000000     100.000000     488.000000  "
      ]
     },
     "execution_count": 74,
     "metadata": {},
     "output_type": "execute_result"
    }
   ],
   "source": [
    "dfp.describe()"
   ]
  },
  {
   "cell_type": "code",
   "execution_count": null,
   "metadata": {
    "collapsed": true
   },
   "outputs": [],
   "source": []
  }
 ],
 "metadata": {
  "kernelspec": {
   "display_name": "Python 2",
   "language": "python",
   "name": "python2"
  },
  "language_info": {
   "codemirror_mode": {
    "name": "ipython",
    "version": 2
   },
   "file_extension": ".py",
   "mimetype": "text/x-python",
   "name": "python",
   "nbconvert_exporter": "python",
   "pygments_lexer": "ipython2",
   "version": "2.7.10"
  }
 },
 "nbformat": 4,
 "nbformat_minor": 0
}
